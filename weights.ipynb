{
  "cells": [
    {
      "cell_type": "markdown",
      "metadata": {
        "id": "view-in-github",
        "colab_type": "text"
      },
      "source": [
        "<a href=\"https://colab.research.google.com/github/UDflyer37/IvyTech/blob/main/weights.ipynb\" target=\"_parent\"><img src=\"https://colab.research.google.com/assets/colab-badge.svg\" alt=\"Open In Colab\"/></a>"
      ]
    },
    {
      "cell_type": "markdown",
      "metadata": {
        "id": "UrgH9tNDZnww"
      },
      "source": [
        "# M02 Programming Assignment\n",
        "### The following are the programming assignments for Module 2. \n",
        "\n",
        "With all program submissions you need to include screenshots illustrating your programs ran successfully.\n",
        "All program submissions require a header comment containing your name, course, date, program name, and a description of the program.\n",
        "\n",
        "## Module 2 Assignment #2\n",
        "\n",
        "### Weight on Other Planets:\n",
        "\n",
        "You can calculate an individual's weight on another planet by multiplying their weight times the relative surface gravity of the other world.\n",
        "\n",
        "Weight on Other Planet = Weight on Earth x Multiple of Earth’s Gravity\n",
        "\n",
        "***Design a Python program that asks a user for their name and weight. The program will greet the user by name and then calculate/display the user's weight on the other planets. Each item should be displayed on a line by itself.***\n",
        "\n",
        "Use the following values for the conversions:\n",
        " \n",
        " <span style=\"font-size:1.5em;\"> ***Body*** </span> | <span style=\"font-size:1.5em;\"> ***Multiple of <br> Earth’s Gravity*** </span>\n",
        "------:|:------\n",
        " Sun | 27.01 \n",
        "Mercury | 0.38\n",
        "Venus | 0.91\n",
        "Earth | 1 (defined)\n",
        "Moon | 0.166\n",
        "Mars | 0.38\n",
        "Jupiter | 2.34\n",
        "Saturn | 1.06\n",
        "Uranus | 0.92\n",
        "Neptune | 1.19\n",
        "Pluto | 0.06\n",
        "\n",
        "\n",
        "_Name your script weights.py and submit it as an attachment to the assignment._"
      ]
    },
    {
      "cell_type": "code",
      "execution_count": null,
      "metadata": {
        "id": "GNZ8xwURZnxA",
        "outputId": "918f6430-4a01-465f-907a-87ee30297f5e"
      },
      "outputs": [
        {
          "name": "stdout",
          "output_type": "stream",
          "text": [
            "What is your name? Alexander Otto\n",
            "How much do you weigh in lbs? 225\n",
            "\n",
            "Hello, Alexander Otto! The following is your weight on each planet:\n",
            "Sun: 6077.25 lbs\n",
            "Mercury: 85.5 lbs\n",
            "Venus: 204.75 lbs\n",
            "Earth: 225.0 lbs\n",
            "Moon: 37.35 lbs\n",
            "Mars: 85.5 lbs\n",
            "Jupiter: 526.5 lbs\n",
            "Saturn: 238.5 lbs\n",
            "Uranus: 207.0 lbs\n",
            "Neptune: 267.75 lbs\n",
            "Pluto: 13.5 lbs\n"
          ]
        }
      ],
      "source": [
        "name, weight = input(\"What is your name? \"),float(input(\"How much do you weigh in lbs? \"))\n",
        "print(f\"\\nHello, {name}! The following is your weight on each planet:\")\n",
        "print(f\"Sun: {27.01*weight} lbs\")\n",
        "print(f\"Mercury: {0.38*weight} lbs\")\n",
        "print(f\"Venus: {0.91*weight} lbs\")\n",
        "print(f\"Earth: {1*weight} lbs\")\n",
        "print(f\"Moon: {0.166*weight} lbs\")\n",
        "print(f\"Mars: {0.38*weight} lbs\")\n",
        "print(f\"Jupiter: {2.34*weight} lbs\")\n",
        "print(f\"Saturn: {1.06*weight} lbs\")\n",
        "print(f\"Uranus: {0.92*weight} lbs\")\n",
        "print(f\"Neptune: {1.19*weight} lbs\")\n",
        "print(f\"Pluto: {0.06*weight} lbs\")"
      ]
    }
  ],
  "metadata": {
    "kernelspec": {
      "display_name": "Python 3",
      "language": "python",
      "name": "python3"
    },
    "language_info": {
      "codemirror_mode": {
        "name": "ipython",
        "version": 3
      },
      "file_extension": ".py",
      "mimetype": "text/x-python",
      "name": "python",
      "nbconvert_exporter": "python",
      "pygments_lexer": "ipython3",
      "version": "3.7.4"
    },
    "colab": {
      "provenance": [],
      "include_colab_link": true
    }
  },
  "nbformat": 4,
  "nbformat_minor": 0
}