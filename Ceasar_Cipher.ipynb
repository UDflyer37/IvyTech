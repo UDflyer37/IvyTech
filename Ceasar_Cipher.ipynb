{
  "cells": [
    {
      "cell_type": "markdown",
      "metadata": {
        "id": "view-in-github",
        "colab_type": "text"
      },
      "source": [
        "<a href=\"https://colab.research.google.com/github/UDflyer37/IvyTech/blob/main/Ceasar_Cipher.ipynb\" target=\"_parent\"><img src=\"https://colab.research.google.com/assets/colab-badge.svg\" alt=\"Open In Colab\"/></a>"
      ]
    },
    {
      "cell_type": "markdown",
      "metadata": {
        "id": "nC-z00Fhbptl"
      },
      "source": [
        "# Create a function that can encrypt and decrypt a text message using a Caesar encryption scheme.\n",
        "```\n",
        "Caesar(string, key)\n",
        "```\n",
        "\n",
        "* This should utilize the simple Caesar scheme to shift the alphabetic/numeric values by the key specified. Be sure to incorporate the printable range of ASCII characters (i.e. Decimal 32 to 126).\n",
        "* The function should receive a string and a numeric key. This function shifts the characters in the text message by the designated key value and returns the altered printable text message. \n",
        "* To encrypt a message call the method with plaintext and pass the cypher key. To decrypt a message call the method with the cypher text and the inverse key (e.g. if 2 was used to encrypt, then -2 would be used to decrypt). \n",
        "\n",
        "__NOTE: If you shift a character out of the printable ASCII range (i.e. an ASCII value less than 32 or greater than 126) you’ll need to “wrap” the character to the beginning or end of the ASCII range:__\n",
        "*\tIf the shifted value is < 32 then you’ll need to “wrap” it to the upper end of the ASCII range by adding 95.\n",
        "*\tIf the shifted value is > 126 then you’ll need to wrap it to the lower end of the ASCII range by subtracting 95."
      ]
    },
    {
      "cell_type": "code",
      "execution_count": null,
      "metadata": {
        "id": "DRxCdtFFbptw",
        "outputId": "8028e82c-710d-4b53-fb90-1aad5da21f0d"
      },
      "outputs": [
        {
          "name": "stdout",
          "output_type": "stream",
          "text": [
            "What is your super secret message Hello World!\n",
            "What is the key for your super secret message? (please enter an integer) 13\n",
            "Whould you like to encrypt or decrypt a message? ('encrypt'/'decrypt') \n",
            "\n",
            "That was not a valid input, I will try to guess what you wanted based off of your key!\n",
            "\n",
            "Your message is: Uryy|-d| yq.\n"
          ]
        }
      ],
      "source": [
        "def Ceasar(string,key):\n",
        "\n",
        "    secret = str(input(\"Whould you like to encrypt or decrypt a message? ('encrypt'/'decrypt') \"))\n",
        "    if secret == \"encrypt\":\n",
        "        message = \"\".join(list(map(lambda x: chr(ord(x) + key) if (ord(x) + key)<128 else chr((ord(x) + key)-128), string)))\n",
        "        return print(f\"\\nYour encrypted message is: {message}\")\n",
        "    \n",
        "    elif secret == \"decrypt\":\n",
        "        message = \"\".join(list(map(lambda x: chr(ord(x) - key) if (ord(x) - key)>31 else chr((ord(x) - key)+31), string)))\n",
        "        return print(f\"\\nYour decrypted message is: {message}\")\n",
        "    \n",
        "    else:\n",
        "        print(\"\\nThat was not a valid input, I will try to guess what you wanted based off of your key!\")\n",
        "        message = \"\".join(list(map(lambda x: chr(ord(x) + key) if 31 < (ord(x) + key) < 127  \n",
        "                                   else chr((ord(x) + key)-95) if (ord(x) + key) > 126 \n",
        "                                   else chr((ord(x) + key)+95), string)))\n",
        "        return print(f\"\\nYour message is: {message}\")\n",
        "\n",
        "Ceasar(str(input(\"What is your super secret message \")),int(input(\"What is the key for your super secret message? (please enter an integer) \")))"
      ]
    }
  ],
  "metadata": {
    "kernelspec": {
      "display_name": "Python 3",
      "language": "python",
      "name": "python3"
    },
    "language_info": {
      "codemirror_mode": {
        "name": "ipython",
        "version": 3
      },
      "file_extension": ".py",
      "mimetype": "text/x-python",
      "name": "python",
      "nbconvert_exporter": "python",
      "pygments_lexer": "ipython3",
      "version": "3.7.4"
    },
    "colab": {
      "provenance": [],
      "include_colab_link": true
    }
  },
  "nbformat": 4,
  "nbformat_minor": 0
}