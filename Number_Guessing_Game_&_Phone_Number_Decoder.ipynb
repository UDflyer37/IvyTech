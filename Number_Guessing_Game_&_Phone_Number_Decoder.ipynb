{
  "cells": [
    {
      "cell_type": "markdown",
      "metadata": {
        "id": "view-in-github",
        "colab_type": "text"
      },
      "source": [
        "<a href=\"https://colab.research.google.com/github/UDflyer37/IvyTech/blob/main/Number_Guessing_Game_%26_Phone_Number_Decoder.ipynb\" target=\"_parent\"><img src=\"https://colab.research.google.com/assets/colab-badge.svg\" alt=\"Open In Colab\"/></a>"
      ]
    },
    {
      "cell_type": "markdown",
      "metadata": {
        "id": "iORMVH34a-Ko"
      },
      "source": [
        "# CWCT Python Essentials Module 3 Lab\n",
        "\n",
        "_Suggestion: Focus on getting the functionality of the phone number conversion or number guessing game working before worrying about asking the user if they wish to repeat the game/conversion._"
      ]
    },
    {
      "cell_type": "markdown",
      "metadata": {
        "id": "TvFbgquoa-LK"
      },
      "source": [
        "1. ***_Write a Number Guessing Game program where the computer selects a random number between 1 and 100. Prompt the user for their guessed value. Provide the user five attempts to guess the value. If the user enters the correct value within five attempts, provide them a suitable congratulatory message. If the guessed number is not correct, the program outputs a message indicating whether the guess is low or high. If the user does not enter the correct value in the requisite attempts, display a suitable failure message. Ask the user if they would like to play the game again (with a newly selected number). If not, exit the program._***\n",
        "\n",
        "\n",
        "_To use a random number generator add the following line to the top of your program:_\n",
        "\n",
        "```\n",
        "from random import randint\n",
        "value = randint(1,100)\n",
        "```"
      ]
    },
    {
      "cell_type": "code",
      "execution_count": null,
      "metadata": {
        "id": "_sv0b9c_a-LM",
        "outputId": "42c740b3-b613-43e2-be13-739d654b9e6c"
      },
      "outputs": [
        {
          "name": "stdout",
          "output_type": "stream",
          "text": [
            "\n",
            "Welcome to the number guessing game! How many guesses would you like? (recommended 5) 5\n",
            "\n",
            "Can you guess the right number? You only have 5 tries! Good Luck!\n",
            "\n",
            "Guess #1: What is your guess? 34\n",
            "Your guess is too low!\n",
            "\n",
            "Guess #2: What is your guess? 76\n",
            "Your guess is too high!\n",
            "\n",
            "Guess #3: What is your guess? 54\n",
            "Your guess is too low!\n",
            "\n",
            "Guess #4: What is your guess? 65\n",
            "Your guess is too low!\n",
            "\n",
            "Guess #5: What is your guess? 72\n",
            "Your guess is too low!\n",
            "\n",
            "Sorry, you were not able to guess correctly. . . The correct answer was 75!\n",
            "\n",
            "Would you like to play again? (y/n) y\n",
            "\n",
            "Welcome to the number guessing game! How many guesses would you like? (recommended 5) 7\n",
            "\n",
            "Can you guess the right number? You only have 7 tries! Good Luck!\n",
            "\n",
            "Guess #1: What is your guess? 74\n",
            "Your guess is too high!\n",
            "\n",
            "Guess #2: What is your guess? 49\n",
            "Your guess is too high!\n",
            "\n",
            "Guess #3: What is your guess? 32\n",
            "Your guess is too high!\n",
            "\n",
            "Guess #4: What is your guess? 15\n",
            "Your guess is too high!\n",
            "\n",
            "Guess #5: What is your guess? 7\n",
            "Your guess is too low!\n",
            "\n",
            "Guess #6: What is your guess? 11\n",
            "Your guess is too low!\n",
            "\n",
            "Guess #7: What is your guess? 13\n",
            "\n",
            "Congratulations! It took you 7 guesses to get it! You rock!\n",
            "\n",
            "Would you like to play again? (y/n) n\n",
            "\n",
            "Thank you for playing!\n"
          ]
        }
      ],
      "source": [
        "from random import randint\n",
        "\n",
        "def guessing_game():\n",
        "    \n",
        "    value = randint(1,100)\n",
        "    number = int(input(\"\\nWelcome to the number guessing game! How many guesses would you like? (recommended 5) \"))\n",
        "    if number < 1:\n",
        "        print(\"\\nPlease enter a valid number greater than 0!\")\n",
        "        return(play_again())\n",
        "    print(f\"\\nCan you guess the right number? You only have {number} tries! Good Luck!\\n\")\n",
        "\n",
        "    for i in range(1,number+1):\n",
        "        guess = int(input(f\"Guess #{i}: What is your guess? \"))\n",
        "        if guess == value:\n",
        "            print(f\"\\nCongratulations! It took you {i} guesses to get it! You rock!\")\n",
        "            return(play_again())\n",
        "        elif guess > value: print(\"Your guess is too high!\\n\")\n",
        "        elif guess < value:print(\"Your guess is too low!\\n\")\n",
        "\n",
        "    print(f\"Sorry, you were not able to guess correctly. . . The correct answer was {value}!\")\n",
        "    play_again()\n",
        "\n",
        "def play_again():  \n",
        "    \n",
        "    play_again = str(input(\"\\nWould you like to play again? (y/n) \"))\n",
        "    if play_again == \"y\":\n",
        "        guessing_game()\n",
        "    if play_again == \"n\":\n",
        "        return(print(\"\\nThank you for playing!\"))\n",
        "\n",
        "guessing_game()"
      ]
    },
    {
      "cell_type": "markdown",
      "metadata": {
        "id": "UuaZyv1Fa-LR"
      },
      "source": [
        "2. To make telephone numbers easier to remember, some companies use letters to show their telephone number. For example, using letters, the telephone number 438-5626 can be shown as GET LOAN. In some cases, to make a telephone number meaningful, companies might use more than seven letters. For example, 225-5466 can be displayed as CALL HOME, which uses eight letters. <br><br>***_Write a program that prompts the user to enter a telephone number containing letters (or a combination of letters and numbers) and outputs the corresponding telephone number with only digits. Ask the user if they would like to convert another number (if not, exit the program)._***"
      ]
    },
    {
      "cell_type": "code",
      "execution_count": null,
      "metadata": {
        "id": "_5Yt6TwGa-LT",
        "outputId": "bc37d54b-46c2-41b8-b2d3-c5c2e9f63309"
      },
      "outputs": [
        {
          "name": "stdout",
          "output_type": "stream",
          "text": [
            "What is the phone number? Ge8 lO26\n",
            "\n",
            "The all numeric phone number is: 438-5626\n"
          ]
        }
      ],
      "source": [
        "#2:abc, 3:def, 4:ghi, 5:jkl, 6:mno, 7:pqrs, 8:tuv, 9:wxyz\n",
        "def phone_code(phone_number):\n",
        "    \n",
        "    phone_dict = {\"a\":2, \"b\":2, \"c\":2, \"d\":3, \"e\":3, \"f\":3, \"g\":4, \"h\":4, \"i\":4, \"j\":5, \"k\":5, \n",
        "                  \"l\":5, \"m\":6, \"n\":6, \"o\":6, \"p\":7, \"q\":7, \"r\":7, \"s\":7, \"t\":8, \"u\":8, \"v\":8, \n",
        "                  \"w\":9, \"x\":9, \"y\":9, \"z\":9,\" \": \"-\"}\n",
        "    \n",
        "    converted_number = \"\".join(list(map(lambda x: str(phone_dict.get(x.lower())) if x.lower() in phone_dict else x, phone_number)))\n",
        "    print(f\"\\nThe all numeric phone number is: {converted_number}\")\n",
        "    \n",
        "phone_code(input(\"What is the phone number? \"))"
      ]
    }
  ],
  "metadata": {
    "kernelspec": {
      "display_name": "Python 3",
      "language": "python",
      "name": "python3"
    },
    "language_info": {
      "codemirror_mode": {
        "name": "ipython",
        "version": 3
      },
      "file_extension": ".py",
      "mimetype": "text/x-python",
      "name": "python",
      "nbconvert_exporter": "python",
      "pygments_lexer": "ipython3",
      "version": "3.7.4"
    },
    "colab": {
      "provenance": [],
      "include_colab_link": true
    }
  },
  "nbformat": 4,
  "nbformat_minor": 0
}