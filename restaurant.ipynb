{
  "cells": [
    {
      "cell_type": "markdown",
      "metadata": {
        "id": "view-in-github",
        "colab_type": "text"
      },
      "source": [
        "<a href=\"https://colab.research.google.com/github/UDflyer37/IvyTech/blob/main/restaurant.ipynb\" target=\"_parent\"><img src=\"https://colab.research.google.com/assets/colab-badge.svg\" alt=\"Open In Colab\"/></a>"
      ]
    },
    {
      "cell_type": "markdown",
      "metadata": {
        "id": "tJrvj5luabxC"
      },
      "source": [
        "# M02 Programming Assignment\n",
        "### The following are the programming assignments for Module 2. \n",
        "\n",
        "With all program submissions you need to include screenshots illustrating your programs ran successfully.\n",
        "All program submissions require a header comment containing your name, course, date, program name, and a description of the program.\n",
        "\n",
        "\n",
        "## Module 2 Assignment #1\n",
        "\n",
        "\n",
        "### Restaurant Bill:\n",
        "\n",
        "***Write a Python script that informs a user of their total meal charges.***\n",
        "\n",
        "1. Prompt the user for the amount of the meal (e.g. $32.95).\n",
        "2. Compute the tax on the restaurant bill. The tax should be 6.75 percent of the meal cost. \n",
        "3. Prompt the user for the tip amount (Suggesting a value equal to 18 percent of the total).\n",
        "4. Display the meal cost, tax amount, tip amount, and total bill on the screen.\n",
        "\n",
        "_Name your script restaurant.py and submit it as an attachment to the assignment._"
      ]
    },
    {
      "cell_type": "code",
      "execution_count": null,
      "metadata": {
        "id": "eMmIKDkBabxI",
        "outputId": "58726c07-6189-4ba5-a29c-31a6871eabdb"
      },
      "outputs": [
        {
          "name": "stdout",
          "output_type": "stream",
          "text": [
            "What is the price of the meal? $32.95\n",
            "What percentage would you like to tip? (recommended 18%) 18\n",
            "\n",
            "The cost of the meal is $32.95. \n",
            "The tax on this meal is $2.22. \n",
            "The tip on this meal is $6.33. \n",
            "The total price of the meal is $41.51.\n"
          ]
        }
      ],
      "source": [
        "cost = float(input(\"What is the price of the meal? $\")) \n",
        "tax = cost*.0675\n",
        "tip = (cost + tax)*(float(input(\"What percentage would you like to tip? (recommended 18%) \"))/100)\n",
        "\n",
        "total = cost+tax+tip\n",
        "\n",
        "print(f\"\\nThe cost of the meal is ${round(cost,2)}. \\nThe tax on this meal is ${round(tax,2)}. \\nThe tip on this meal is ${round(tip,2)}. \\nThe total price of the meal is ${round(total,2)}.\")\n"
      ]
    }
  ],
  "metadata": {
    "kernelspec": {
      "display_name": "Python 3",
      "language": "python",
      "name": "python3"
    },
    "language_info": {
      "codemirror_mode": {
        "name": "ipython",
        "version": 3
      },
      "file_extension": ".py",
      "mimetype": "text/x-python",
      "name": "python",
      "nbconvert_exporter": "python",
      "pygments_lexer": "ipython3",
      "version": "3.7.4"
    },
    "colab": {
      "provenance": [],
      "include_colab_link": true
    }
  },
  "nbformat": 4,
  "nbformat_minor": 0
}