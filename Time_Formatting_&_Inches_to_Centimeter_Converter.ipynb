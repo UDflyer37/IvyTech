{
  "nbformat": 4,
  "nbformat_minor": 0,
  "metadata": {
    "colab": {
      "provenance": [],
      "collapsed_sections": [],
      "authorship_tag": "ABX9TyP3/PxgT78uBiEGmsywDPN+",
      "include_colab_link": true
    },
    "kernelspec": {
      "name": "python3",
      "display_name": "Python 3"
    },
    "language_info": {
      "name": "python"
    }
  },
  "cells": [
    {
      "cell_type": "markdown",
      "metadata": {
        "id": "view-in-github",
        "colab_type": "text"
      },
      "source": [
        "<a href=\"https://colab.research.google.com/github/UDflyer37/IvyTech/blob/main/Time_Formatting_%26_Inches_to_Centimeter_Converter.ipynb\" target=\"_parent\"><img src=\"https://colab.research.google.com/assets/colab-badge.svg\" alt=\"Open In Colab\"/></a>"
      ]
    },
    {
      "cell_type": "markdown",
      "source": [
        "# Instruction:\n",
        "\n",
        "### How to create your own exception:\n",
        "You can create your own exception by mimicking the following example of creating a “Score out of Range” exception at the top of your program (simply create your own version with an appropriate name and appropriate message):\n",
        "```\n",
        "class ScoreOutOfRangeError(Exception):\n",
        "    def __init__(self,message=\"\"):\n",
        "        if len(message) > 0:\n",
        "            self.message = message\n",
        "        else:\n",
        "            self.message = \"Score out of Range: score must be between 0 and 100\"\n",
        "```\n",
        "\n",
        "### How to raise your own exception:\n",
        "You can raise your own exception by mimicking the following example of raising a “Score out of Range” exception:\n",
        "```\n",
        "    if score < 0:\n",
        "        raise ScoreOutOfRangeError(\"Score cannot be negative!!\")\n",
        "```"
      ],
      "metadata": {
        "id": "x-7iAkj3QRk4"
      }
    },
    {
      "cell_type": "markdown",
      "source": [
        "# Lab 1: \n",
        "Write a program that prompts the user to enter time in 24-hour notation (e.g. 18:23:47). The program then calls a function to convert the time into 12-hour notation with an appended “AM” or “PM” (e.g.  6:23:47 PM). \n",
        "\n",
        "> Your program must contain a user defined exception: __invalidTimeError__. If the user enters an invalid value for hours (e.g.  a negative number or value > 23), then the function should raise an __invalidTimeError__ exception with an appropriate message. Follow similar conventions for the invalid values of minutes and seconds (e.g. negative numbers or a value > 59).\n",
        "\n",
        "The program should: \n",
        "- catch/handle any exceptions raised by invalid values or non-digit values being entered \n",
        "- display an appropriate message\n",
        "- re-prompt the user for the time.\n",
        "\n",
        "\n"
      ],
      "metadata": {
        "id": "f7wk07C4P-n4"
      }
    },
    {
      "cell_type": "code",
      "execution_count": null,
      "metadata": {
        "id": "Vg2wV_70P1aI",
        "colab": {
          "base_uri": "https://localhost:8080/"
        },
        "outputId": "c0548b3e-bbbc-4d7d-e797-abbb3b6fa9ee"
      },
      "outputs": [
        {
          "output_type": "stream",
          "name": "stdout",
          "text": [
            "\n",
            "Welcome to our 24-hour notation time converter!\n",
            "Please enter the time you would like to convert seperated by a colon (eg. hh:mm:ss): \n",
            "-1:30:30\n",
            "\n",
            "Time must be in the following format: 'hh:mm:ss'\n",
            "\n",
            "Hours must be a positive integer less than 24 \n",
            "Minutes and Seconds must be positive integers less than 60\n",
            "\n",
            "Would you like to try again? (y / n)\n",
            "y\n",
            "\n",
            "Welcome to our 24-hour notation time converter!\n",
            "Please enter the time you would like to convert seperated by a colon (eg. hh:mm:ss): \n",
            "12:30:60\n",
            "\n",
            "Time must be in the following format: 'hh:mm:ss'\n",
            "\n",
            "Hours must be a positive integer less than 24 \n",
            "Minutes and Seconds must be positive integers less than 60\n",
            "\n",
            "Would you like to try again? (y / n)\n",
            "y\n",
            "\n",
            "Welcome to our 24-hour notation time converter!\n",
            "Please enter the time you would like to convert seperated by a colon (eg. hh:mm:ss): \n",
            "22:30:30\n",
            "\n",
            "Your converted time in 12-hour notation is: 10:30:30 PM\n"
          ]
        }
      ],
      "source": [
        "class invalidTimeError(Exception):\n",
        "    def __init__(self,message=\"\"):\n",
        "        if len(message) > 0:\n",
        "            self.message = message\n",
        "        else:\n",
        "            self.message = \"Time out of Range\"\n",
        "\n",
        "def main():\n",
        "  print(\"\\nWelcome to our 24-hour notation time converter!\\nPlease enter the time you would like to convert seperated by a colon (eg. hh:mm:ss): \")\n",
        "  try:\n",
        "    time = list(map(lambda x: int(x), str(input().strip()).split(\":\")))\n",
        "    \n",
        "    if 0 <= time[0] < 24 and 0 <= time[1] < 60 and 0 <= time[2] < 60 and len(time) == 3:\n",
        "      \n",
        "      if time[0] > 12:\n",
        "        time[0] -= 12\n",
        "        time = \":\".join(list(map(lambda x: str(x),time))) + \" PM\"\n",
        "\n",
        "      else: \n",
        "        time = \":\".join(list(map(lambda x: str(x),time))) + \" AM\"\n",
        "\n",
        "      print(f\"\\nYour converted time in 12-hour notation is: {time}\")\n",
        "    \n",
        "    else:\n",
        "      raise invalidTimeError()\n",
        "\n",
        "  except invalidTimeError:\n",
        "    print(\"\\nTime must be in the following format: 'hh:mm:ss'\\n\\nHours must be a positive integer less than 24 \\nMinutes and Seconds must be positive integers less than 60\\n\\nWould you like to try again? (y / n)\")\n",
        "    choice = input().strip().lower()\n",
        "    if choice.startswith(\"y\"):\n",
        "      main()\n",
        " \n",
        "  except:\n",
        "    print(\"\\nThere was an error in your input.\\n\\nWould you like to try again? (y / n)\")\n",
        "    choice = input().strip().lower()\n",
        "    if choice.startswith(\"y\"):\n",
        "      main()\n",
        "\n",
        "if __name__ == \"__main__\":\n",
        "  main()"
      ]
    },
    {
      "cell_type": "markdown",
      "source": [
        "# Lab 2:\n",
        "Write a program that prompts the user to enter a length in feet and inches (e.g. 12’8”) and calls a function to convert the value to the equivalent length in centimeters. \n",
        "> Your program must contain a user defined exception: __invalidMeasurementError__. If the user enters negative numbers or the number of inches exceeds 11, the function should raise an __invalidMeasurementError__ exception with an appropriate message. \n",
        "\n",
        "The main program should:\n",
        "- catch/handle any exceptions raised by invalid measurements or non-digit values being entered\n",
        "- indicate an appropriate message \n",
        "- prompt the user to enter another set of numbers."
      ],
      "metadata": {
        "id": "uyLK9QU3QL0w"
      }
    },
    {
      "cell_type": "code",
      "source": [
        "class invalidMeasurementError(Exception):\n",
        "    def __init__(self,message=\"\"):\n",
        "        if len(message) > 0:\n",
        "            self.message = message\n",
        "        else:\n",
        "            self.message = \"Measurement out of Range\"\n",
        "\n",
        "def main():\n",
        "  print(\"\\nWelcome to our Unit Conversion Program!\\nPlease input your measurment: \")\n",
        "  try:\n",
        "    feet = int(input(\"Feet: \").strip())\n",
        "    inches = int(input(\"Inches: \").strip())\n",
        "    measurement = int()\n",
        "    inches_to_cm_conversion = 2.54\n",
        "    \n",
        "    if 0 <= feet and 0 <= inches < 12:\n",
        "      measurement = (feet*12 + inches)*inches_to_cm_conversion\n",
        "\n",
        "      print(f\"\\nThe conversion is as follows:\\n{feet}\\'{inches}\\\" = {measurement} cm.\")\n",
        "    \n",
        "    else:\n",
        "      raise invalidMeasurementError()\n",
        "\n",
        "  except invalidMeasurementError:\n",
        "    print(\"\\nMeasurements must be positive integers with inches less than 12.\\n\\nWould you like to try again? (y / n)\")\n",
        "    choice = input().strip().lower()\n",
        "    if choice.startswith(\"y\"):\n",
        "      main()\n",
        "\n",
        "  except:\n",
        "    print(\"\\nThere was an error in your input.\\n\\nWould you like to try again? (y / n)\")\n",
        "    choice = input().strip().lower()\n",
        "    if choice.startswith(\"y\"):\n",
        "      main()\n",
        "\n",
        "\n",
        "if __name__ == \"__main__\":\n",
        "  main()"
      ],
      "metadata": {
        "id": "tYcKCcGqSMNn",
        "colab": {
          "base_uri": "https://localhost:8080/"
        },
        "outputId": "4d100619-8b03-4763-d7b4-253c54e56fe6"
      },
      "execution_count": null,
      "outputs": [
        {
          "output_type": "stream",
          "name": "stdout",
          "text": [
            "\n",
            "Welcome to our Unit Conversion Program!\n",
            "Please input your measurment: \n",
            "Feet: :\"#@R\n",
            "\n",
            "There was an error in your input.\n",
            "\n",
            "Would you like to try again? (y / n)\n",
            "y\n",
            "\n",
            "Welcome to our Unit Conversion Program!\n",
            "Please input your measurment: \n",
            "Feet: -1\n",
            "Inches: 2\n",
            "\n",
            "Measurements must be positive integers with inches less than 12.\n",
            "\n",
            "Would you like to try again? (y / n)\n",
            "y\n",
            "\n",
            "Welcome to our Unit Conversion Program!\n",
            "Please input your measurment: \n",
            "Feet: 1\n",
            "Inches: 2\n",
            "\n",
            "The conversion is as follows:\n",
            "1'2\" = 35.56 cm.\n"
          ]
        }
      ]
    }
  ]
}