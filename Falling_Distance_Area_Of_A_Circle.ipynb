{
  "cells": [
    {
      "cell_type": "markdown",
      "metadata": {
        "id": "view-in-github",
        "colab_type": "text"
      },
      "source": [
        "<a href=\"https://colab.research.google.com/github/UDflyer37/IvyTech/blob/main/Falling_Distance_Area_Of_A_Circle.ipynb\" target=\"_parent\"><img src=\"https://colab.research.google.com/assets/colab-badge.svg\" alt=\"Open In Colab\"/></a>"
      ]
    },
    {
      "cell_type": "markdown",
      "metadata": {
        "id": "oxPI1pqlYH7V"
      },
      "source": [
        "# M04 Programming Assignment\n",
        "\n",
        "### ASSIGNMENT 1: Falling Distance\n",
        "\n",
        "When an object is falling because of gravity, the following formula can be used to determine the distance the object falls in a specific time period:\n",
        "\n",
        "d = (1/2) g*t^2\n",
        "\n",
        "The variables in the formula are as follows: d is the distance in meters, g is 9.8, and t is the amount of time, in seconds, that the object has been falling.\n",
        "\n",
        " __Write a function named fallingDistance that accepts an object’s falling time (in seconds) as an argument. The function should return the distance, in meters, that the object has fallen during that time interval. Write a program that demonstrates the function by prompting the user for the total time and calling the function in a loop that passes the time values in 5 second increments as the argument and displays the elapsed time and return value. The output should have a header identifying the column names and tabular formatted values (values displayed are to illustrate formatting only):__\n",
        "\n",
        "    Time\tDistance\n",
        "     0\t      0.0\n",
        "     5\t     30.0\n",
        "    10\t     45.0\n",
        "    15\t     52.0\n"
      ]
    },
    {
      "cell_type": "code",
      "execution_count": null,
      "metadata": {
        "id": "wla6CGMxYH7c",
        "outputId": "00ffcb32-7610-44eb-8014-01e254041df0"
      },
      "outputs": [
        {
          "name": "stdout",
          "output_type": "stream",
          "text": [
            "How many seconds was the object falling? 15\n",
            "\n",
            "Time (t)\tDistance (m)\n",
            "\n",
            "0\t\t0.00\n",
            "\n",
            "5\t\t122.50\n",
            "\n",
            "10\t\t490.00\n",
            "\n",
            "15\t\t1102.50\n"
          ]
        }
      ],
      "source": [
        "################################\n",
        "\n",
        "# Program name: fallingDistance.py\n",
        "\n",
        "#  Author: Alexander Otto\n",
        "\n",
        "#  Course: Python Essentials\n",
        "\n",
        "#  Date: 08SEP2022\n",
        "\n",
        "#  Assignment: Module 4 - Falling Distance\n",
        "\n",
        "#  Purpose: Calculate Distance Traveled After Falling for a Set Time.\n",
        "\n",
        "########################################\n",
        "\n",
        "def fallingDistance(t):\n",
        "    \n",
        "    print(\"\\nTime (t)\\tDistance (m)\")\n",
        "    for i in range(0,t+1,5):\n",
        "        d = 0.5*9.8*i**2\n",
        "        print(f\"\\n{i}\\t\\t{d:.2f}\")\n",
        "    \n",
        "fallingDistance(int(input(\"How many seconds was the object falling? \")))"
      ]
    },
    {
      "cell_type": "markdown",
      "metadata": {
        "id": "2G1-RnksYH7f"
      },
      "source": [
        "### ASSIGNMENT 2: Area of a Circle\n",
        "\n",
        "The following formula gives the distance between two points, (x1, y1) and (x2, y2) in the Cartesian plane:\n",
        "\n",
        "    distance = √ [(x2-x1)^2+(y2-y1)^2]\n",
        "\n",
        "Given the center and a point on the circle, you can use this formula to find the radius of the circle. \n",
        "\n",
        "__Write a program that prompts the user to enter the center and a point on the circle (two tuples containing an x and y value). The program should then output the circle’s radius, diameter, circumference, and area. Your program must have at least the following functions:__\n",
        "\n",
        "___calculateRadius:___ Receives the x-y coordinates of the center and point on the circle (as input by the user) and calculates the distance between the points. This value is returned as the radius of the circle.\n",
        "\n",
        "___calculateArea:___ Receives the radius of a circle, calculates and returns the area of the circle.\n",
        "\n",
        "___calculatePerimeter:___ Receives the radius of a circle, calculates and returns the perimeter of the circle.\n",
        "\n",
        "_The output should clearly display the radius, area, and perimeter of the resulting circle._"
      ]
    },
    {
      "cell_type": "code",
      "execution_count": null,
      "metadata": {
        "id": "Ro8pyDAOYH7g",
        "outputId": "31a2446f-80f0-419c-d390-9db90ef9ab72"
      },
      "outputs": [
        {
          "name": "stdout",
          "output_type": "stream",
          "text": [
            "The Radius of the cirle is 0.50.\n",
            "The Area of the circle is 0.79.\n",
            "The Perimeter of the circle is 3.14.\n"
          ]
        }
      ],
      "source": [
        "################################\n",
        "\n",
        "# Program name: circle.py\n",
        "\n",
        "#  Author: Alexander Otto\n",
        "\n",
        "#  Course: Python Essentials\n",
        "\n",
        "#  Date: 08SEP2022\n",
        "\n",
        "#  Assignment: Module 4 - Area of a Circle\n",
        "\n",
        "#  Purpose: Calculate the Dimensions of a Circle Given a Center Point and a Point on the Circle.\n",
        "\n",
        "########################################\n",
        "\n",
        "from math import pi\n",
        "\n",
        "def calculateRadius(c1,c2):\n",
        "    x1 = c1[0]\n",
        "    y1 = c1[1]\n",
        "    x2 = c2[0]\n",
        "    y2 = c2[1]\n",
        "    \n",
        "    return((0.5)*(((x2-x1)**2 + (y2-y1)**2)**0.5))\n",
        "    \n",
        "def calculateArea(radius):\n",
        "    return(pi*radius**2)\n",
        "    \n",
        "def calculatePerimeter(radius):\n",
        "    return(2*pi*radius)\n",
        "\n",
        "def circle(c1,c2):\n",
        "    radius = calculateRadius(c1,c2)\n",
        "    area = calculateArea(radius)\n",
        "    perimeter = calculatePerimeter(radius)\n",
        "    \n",
        "    print(f\"The Radius of the cirle is {radius:.2f}.\\nThe Area of the circle is {area:.2f}.\\nThe Perimeter of the circle is {perimeter:.2f}.\")\n",
        "\n",
        "circle((1,1),(2,1))\n",
        "    \n",
        "    "
      ]
    }
  ],
  "metadata": {
    "kernelspec": {
      "display_name": "Python 3",
      "language": "python",
      "name": "python3"
    },
    "language_info": {
      "codemirror_mode": {
        "name": "ipython",
        "version": 3
      },
      "file_extension": ".py",
      "mimetype": "text/x-python",
      "name": "python",
      "nbconvert_exporter": "python",
      "pygments_lexer": "ipython3",
      "version": "3.7.4"
    },
    "colab": {
      "provenance": [],
      "collapsed_sections": [],
      "include_colab_link": true
    }
  },
  "nbformat": 4,
  "nbformat_minor": 0
}