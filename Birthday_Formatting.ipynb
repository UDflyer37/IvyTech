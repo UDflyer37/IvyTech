{
  "nbformat": 4,
  "nbformat_minor": 0,
  "metadata": {
    "colab": {
      "provenance": [],
      "authorship_tag": "ABX9TyOP31QtXQbN2zI+Dlmwo+X/",
      "include_colab_link": true
    },
    "kernelspec": {
      "name": "python3",
      "display_name": "Python 3"
    },
    "language_info": {
      "name": "python"
    }
  },
  "cells": [
    {
      "cell_type": "markdown",
      "metadata": {
        "id": "view-in-github",
        "colab_type": "text"
      },
      "source": [
        "<a href=\"https://colab.research.google.com/github/UDflyer37/IvyTech/blob/main/Birthday_Formatting.ipynb\" target=\"_parent\"><img src=\"https://colab.research.google.com/assets/colab-badge.svg\" alt=\"Open In Colab\"/></a>"
      ]
    },
    {
      "cell_type": "markdown",
      "source": [
        "# M02 Programming Assignment\n",
        "#### Write a program that prompts the user to enter a person’s date of birth in numeric form (e.g. 8/27/1980). The program will call a function that returns the date of birth in the form: August 27, 1980. \n",
        "\n",
        "Your program must contain at least three exceptions: \n",
        "- invalidDay\n",
        "- invalidMonth \n",
        "- invalidYear. \n",
        "\n",
        "> __If the user enters an invalid value for day, then the function should throw an invalidDay exception (remember the various numbers of days in each month). Follow similar conventions for the invalid values of month and year.__\n",
        "\n",
        "The main program should catch/handle the exceptions, display an appropriate message, and prompt the user to re-enter a birthdate.\n",
        "\n",
        ">___The date of birth should be after 1920 and prior to the current date. Your program does not have to handle a leap year.___"
      ],
      "metadata": {
        "id": "JY2titYCYn5V"
      }
    },
    {
      "cell_type": "code",
      "execution_count": null,
      "metadata": {
        "colab": {
          "base_uri": "https://localhost:8080/"
        },
        "id": "H6tKh008YcYk",
        "outputId": "b5cd3955-98ca-40fc-cbbd-7279d1e599ca"
      },
      "outputs": [
        {
          "output_type": "stream",
          "name": "stdout",
          "text": [
            "\n",
            "Welcome to our Birthday Program!\n",
            "\n",
            "Please input your birthday in the following format (eg. mm/dd/yyyy): \n",
            "13/09/1998\n",
            "\n",
            "Your month is out of range. Please use a month from 1 to 12.\n",
            "\n",
            "Would you like to try again? (y / n)\n",
            "y\n",
            "\n",
            "Welcome to our Birthday Program!\n",
            "\n",
            "Please input your birthday in the following format (eg. mm/dd/yyyy): \n",
            "06/31/1998\n",
            "\n",
            "Your day is out of range. Ensure you have the correct number of days for that month.\n",
            "\n",
            "Would you like to try again? (y / n)\n",
            "y\n",
            "\n",
            "Welcome to our Birthday Program!\n",
            "\n",
            "Please input your birthday in the following format (eg. mm/dd/yyyy): \n",
            "06/09/1908\n",
            "\n",
            "Your Year is out of range. Please use a year between 1920 and 2022\n",
            "\n",
            "Would you like to try again? (y / n)\n",
            "y\n",
            "\n",
            "Welcome to our Birthday Program!\n",
            "\n",
            "Please input your birthday in the following format (eg. mm/dd/yyyy): \n",
            "06/09/1998\n",
            "\n",
            "Your date of birth is as follows: June 9, 1998\n"
          ]
        }
      ],
      "source": [
        "class invalidDayError(Exception):\n",
        "    def __init__(self,message=\"\"):\n",
        "        if len(message) > 0:\n",
        "            self.message = message\n",
        "        else:\n",
        "            self.message = \"Day out of Range\"\n",
        "\n",
        "class invalidMonthError(Exception):\n",
        "    def __init__(self,message=\"\"):\n",
        "        if len(message) > 0:\n",
        "            self.message = message\n",
        "        else:\n",
        "            self.message = \"Month out of Range\"\n",
        "\n",
        "class invalidYearError(Exception):\n",
        "    def __init__(self,message=\"\"):\n",
        "        if len(message) > 0:\n",
        "            self.message = message\n",
        "        else:\n",
        "            self.message = \"Year out of Range\"\n",
        "\n",
        "def main():\n",
        "  print(\"\\nWelcome to our Birthday Program!\\n\\nPlease input your birthday in the following format (eg. mm/dd/yyyy): \")\n",
        "  months = {1:\"January\", 2:\"February\", 3:\"March\", 4:\"April\", 5:\"May\", 6:\"June\", 7:\"July\",\n",
        "            8:\"August\", 9:\"September\", 10:\"October\", 11:\"November\", 12:\"December\"}\n",
        "  long_month = [\"January\", \"March\", \"May\", \"July\", \"August\", \"October\",\"December\"]\n",
        "\n",
        "  try:\n",
        "    birthday = list(map(lambda x: int(x), str(input().strip()).split(\"/\")))\n",
        "\n",
        "    if 1920 < birthday[2] < 2022:\n",
        "      if 0 < birthday[0] < 13:\n",
        "        birthday[0] = months[birthday[0]]\n",
        "        if birthday[0] == \"February\":\n",
        "          if 0 < birthday[1] < 29:\n",
        "            None\n",
        "          else:\n",
        "            raise invalidDayError()\n",
        "\n",
        "        elif birthday[0] in long_month:\n",
        "          if 0 < birthday[1] < 32:\n",
        "            None\n",
        "          else:\n",
        "            raise invalidDayError()\n",
        "        else:\n",
        "          if 0 < birthday[1] < 31:\n",
        "            None\n",
        "          else:\n",
        "            raise invalidDayError()\n",
        "      else:\n",
        "        raise invalidMonthError()\n",
        "    else:\n",
        "      raise invalidYearError()\n",
        "    \n",
        "    return(print(f\"\\nYour date of birth is as follows: {birthday[0]} {birthday[1]}, {birthday[2]}\"))\n",
        "\n",
        "  except invalidDayError:\n",
        "    print(\"\\nYour day is out of range. Ensure you have the correct number of days for that month.\\n\\nWould you like to try again? (y / n)\")\n",
        "    choice = input().strip().lower()\n",
        "    if choice.startswith(\"y\"):\n",
        "      main()\n",
        "  \n",
        "  except invalidMonthError:\n",
        "    print(\"\\nYour month is out of range. Please use a month from 1 to 12.\\n\\nWould you like to try again? (y / n)\")\n",
        "    choice = input().strip().lower()\n",
        "    if choice.startswith(\"y\"):\n",
        "      main()\n",
        "\n",
        "  except invalidYearError:\n",
        "    print(\"\\nYour Year is out of range. Please use a year between 1920 and 2022\\n\\nWould you like to try again? (y / n)\")\n",
        "    choice = input().strip().lower()\n",
        "    if choice.startswith(\"y\"):\n",
        "      main()\n",
        "  \n",
        "  except:\n",
        "    print(\"\\nThere was an error in your input.\\n\\nWould you like to try again? (y / n)\")\n",
        "    choice = input().strip().lower()\n",
        "    if choice.startswith(\"y\"):\n",
        "      main()\n",
        "\n",
        "\n",
        "if __name__ == \"__main__\":\n",
        "  main()"
      ]
    }
  ]
}